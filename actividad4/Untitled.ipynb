{
 "cells": [
  {
   "cell_type": "code",
   "execution_count": 1,
   "metadata": {
    "collapsed": true
   },
   "outputs": [],
   "source": [
    "import pandas as pd\n",
    "\n",
    "import numpy as np\n",
    "\n",
    "import matplotlib as plt\n",
    "\n",
    "import matplotlib.pyplot as mplt"
   ]
  },
  {
   "cell_type": "code",
   "execution_count": 2,
   "metadata": {
    "collapsed": true
   },
   "outputs": [],
   "source": [
    "df = pd.read_csv (\"/home/lcoronado/computacional1/actividad4/12Z.csv\")"
   ]
  },
  {
   "cell_type": "code",
   "execution_count": 3,
   "metadata": {
    "collapsed": false
   },
   "outputs": [
    {
     "data": {
      "text/html": [
       "<div>\n",
       "<table border=\"1\" class=\"dataframe\">\n",
       "  <thead>\n",
       "    <tr style=\"text-align: right;\">\n",
       "      <th></th>\n",
       "      <th>PRES</th>\n",
       "      <th>HGHT</th>\n",
       "      <th>TEMP</th>\n",
       "      <th>DWPT</th>\n",
       "      <th>RELH</th>\n",
       "      <th>MIXR</th>\n",
       "      <th>DRCT</th>\n",
       "      <th>SKNT</th>\n",
       "      <th>THTA</th>\n",
       "      <th>THTE</th>\n",
       "      <th>THTV</th>\n",
       "    </tr>\n",
       "  </thead>\n",
       "  <tbody>\n",
       "    <tr>\n",
       "      <th>0</th>\n",
       "      <td>1016.0</td>\n",
       "      <td>18</td>\n",
       "      <td>17.4</td>\n",
       "      <td>13.0</td>\n",
       "      <td>75</td>\n",
       "      <td>9.34</td>\n",
       "      <td>35</td>\n",
       "      <td>7</td>\n",
       "      <td>289.2</td>\n",
       "      <td>315.7</td>\n",
       "      <td>290.9</td>\n",
       "    </tr>\n",
       "    <tr>\n",
       "      <th>1</th>\n",
       "      <td>1008.0</td>\n",
       "      <td>87</td>\n",
       "      <td>18.2</td>\n",
       "      <td>12.2</td>\n",
       "      <td>68</td>\n",
       "      <td>8.93</td>\n",
       "      <td>40</td>\n",
       "      <td>10</td>\n",
       "      <td>290.7</td>\n",
       "      <td>316.2</td>\n",
       "      <td>292.2</td>\n",
       "    </tr>\n",
       "    <tr>\n",
       "      <th>2</th>\n",
       "      <td>1000.0</td>\n",
       "      <td>157</td>\n",
       "      <td>17.8</td>\n",
       "      <td>11.8</td>\n",
       "      <td>68</td>\n",
       "      <td>8.76</td>\n",
       "      <td>45</td>\n",
       "      <td>13</td>\n",
       "      <td>290.9</td>\n",
       "      <td>316.0</td>\n",
       "      <td>292.5</td>\n",
       "    </tr>\n",
       "    <tr>\n",
       "      <th>3</th>\n",
       "      <td>950.0</td>\n",
       "      <td>595</td>\n",
       "      <td>15.2</td>\n",
       "      <td>8.4</td>\n",
       "      <td>64</td>\n",
       "      <td>7.32</td>\n",
       "      <td>10</td>\n",
       "      <td>25</td>\n",
       "      <td>292.6</td>\n",
       "      <td>313.8</td>\n",
       "      <td>293.9</td>\n",
       "    </tr>\n",
       "    <tr>\n",
       "      <th>4</th>\n",
       "      <td>939.0</td>\n",
       "      <td>694</td>\n",
       "      <td>14.6</td>\n",
       "      <td>7.6</td>\n",
       "      <td>63</td>\n",
       "      <td>7.02</td>\n",
       "      <td>14</td>\n",
       "      <td>26</td>\n",
       "      <td>293.0</td>\n",
       "      <td>313.4</td>\n",
       "      <td>294.2</td>\n",
       "    </tr>\n",
       "    <tr>\n",
       "      <th>5</th>\n",
       "      <td>925.0</td>\n",
       "      <td>822</td>\n",
       "      <td>15.4</td>\n",
       "      <td>6.4</td>\n",
       "      <td>55</td>\n",
       "      <td>6.56</td>\n",
       "      <td>20</td>\n",
       "      <td>27</td>\n",
       "      <td>295.1</td>\n",
       "      <td>314.4</td>\n",
       "      <td>296.2</td>\n",
       "    </tr>\n",
       "    <tr>\n",
       "      <th>6</th>\n",
       "      <td>899.0</td>\n",
       "      <td>1063</td>\n",
       "      <td>15.2</td>\n",
       "      <td>3.2</td>\n",
       "      <td>45</td>\n",
       "      <td>5.39</td>\n",
       "      <td>32</td>\n",
       "      <td>23</td>\n",
       "      <td>297.3</td>\n",
       "      <td>313.4</td>\n",
       "      <td>298.2</td>\n",
       "    </tr>\n",
       "    <tr>\n",
       "      <th>7</th>\n",
       "      <td>893.0</td>\n",
       "      <td>1119</td>\n",
       "      <td>17.0</td>\n",
       "      <td>-3.0</td>\n",
       "      <td>25</td>\n",
       "      <td>3.45</td>\n",
       "      <td>35</td>\n",
       "      <td>22</td>\n",
       "      <td>299.7</td>\n",
       "      <td>310.4</td>\n",
       "      <td>300.3</td>\n",
       "    </tr>\n",
       "    <tr>\n",
       "      <th>8</th>\n",
       "      <td>878.0</td>\n",
       "      <td>1263</td>\n",
       "      <td>17.4</td>\n",
       "      <td>-4.6</td>\n",
       "      <td>22</td>\n",
       "      <td>3.11</td>\n",
       "      <td>42</td>\n",
       "      <td>19</td>\n",
       "      <td>301.6</td>\n",
       "      <td>311.3</td>\n",
       "      <td>302.1</td>\n",
       "    </tr>\n",
       "    <tr>\n",
       "      <th>9</th>\n",
       "      <td>865.0</td>\n",
       "      <td>1390</td>\n",
       "      <td>20.2</td>\n",
       "      <td>-21.8</td>\n",
       "      <td>5</td>\n",
       "      <td>0.78</td>\n",
       "      <td>48</td>\n",
       "      <td>17</td>\n",
       "      <td>305.8</td>\n",
       "      <td>308.4</td>\n",
       "      <td>305.9</td>\n",
       "    </tr>\n",
       "    <tr>\n",
       "      <th>10</th>\n",
       "      <td>850.0</td>\n",
       "      <td>1540</td>\n",
       "      <td>20.6</td>\n",
       "      <td>-19.4</td>\n",
       "      <td>5</td>\n",
       "      <td>0.97</td>\n",
       "      <td>55</td>\n",
       "      <td>14</td>\n",
       "      <td>307.7</td>\n",
       "      <td>311.1</td>\n",
       "      <td>307.9</td>\n",
       "    </tr>\n",
       "    <tr>\n",
       "      <th>11</th>\n",
       "      <td>825.0</td>\n",
       "      <td>1795</td>\n",
       "      <td>18.5</td>\n",
       "      <td>-17.1</td>\n",
       "      <td>8</td>\n",
       "      <td>1.22</td>\n",
       "      <td>70</td>\n",
       "      <td>10</td>\n",
       "      <td>308.1</td>\n",
       "      <td>312.3</td>\n",
       "      <td>308.4</td>\n",
       "    </tr>\n",
       "    <tr>\n",
       "      <th>12</th>\n",
       "      <td>805.0</td>\n",
       "      <td>2005</td>\n",
       "      <td>16.8</td>\n",
       "      <td>-15.2</td>\n",
       "      <td>10</td>\n",
       "      <td>1.47</td>\n",
       "      <td>63</td>\n",
       "      <td>11</td>\n",
       "      <td>308.5</td>\n",
       "      <td>313.4</td>\n",
       "      <td>308.8</td>\n",
       "    </tr>\n",
       "    <tr>\n",
       "      <th>13</th>\n",
       "      <td>768.0</td>\n",
       "      <td>2404</td>\n",
       "      <td>15.4</td>\n",
       "      <td>-19.8</td>\n",
       "      <td>7</td>\n",
       "      <td>1.04</td>\n",
       "      <td>50</td>\n",
       "      <td>13</td>\n",
       "      <td>311.1</td>\n",
       "      <td>314.8</td>\n",
       "      <td>311.3</td>\n",
       "    </tr>\n",
       "    <tr>\n",
       "      <th>14</th>\n",
       "      <td>748.0</td>\n",
       "      <td>2627</td>\n",
       "      <td>14.6</td>\n",
       "      <td>-22.4</td>\n",
       "      <td>6</td>\n",
       "      <td>0.85</td>\n",
       "      <td>54</td>\n",
       "      <td>12</td>\n",
       "      <td>312.6</td>\n",
       "      <td>315.6</td>\n",
       "      <td>312.8</td>\n",
       "    </tr>\n",
       "    <tr>\n",
       "      <th>15</th>\n",
       "      <td>700.0</td>\n",
       "      <td>3182</td>\n",
       "      <td>10.2</td>\n",
       "      <td>-20.8</td>\n",
       "      <td>9</td>\n",
       "      <td>1.05</td>\n",
       "      <td>65</td>\n",
       "      <td>9</td>\n",
       "      <td>313.8</td>\n",
       "      <td>317.4</td>\n",
       "      <td>313.9</td>\n",
       "    </tr>\n",
       "    <tr>\n",
       "      <th>16</th>\n",
       "      <td>690.0</td>\n",
       "      <td>3300</td>\n",
       "      <td>9.1</td>\n",
       "      <td>-20.1</td>\n",
       "      <td>11</td>\n",
       "      <td>1.13</td>\n",
       "      <td>65</td>\n",
       "      <td>9</td>\n",
       "      <td>313.8</td>\n",
       "      <td>317.8</td>\n",
       "      <td>314.0</td>\n",
       "    </tr>\n",
       "    <tr>\n",
       "      <th>17</th>\n",
       "      <td>665.0</td>\n",
       "      <td>3601</td>\n",
       "      <td>6.3</td>\n",
       "      <td>-18.4</td>\n",
       "      <td>15</td>\n",
       "      <td>1.36</td>\n",
       "      <td>55</td>\n",
       "      <td>9</td>\n",
       "      <td>314.0</td>\n",
       "      <td>318.7</td>\n",
       "      <td>314.3</td>\n",
       "    </tr>\n",
       "    <tr>\n",
       "      <th>18</th>\n",
       "      <td>641.0</td>\n",
       "      <td>3902</td>\n",
       "      <td>3.5</td>\n",
       "      <td>-16.7</td>\n",
       "      <td>21</td>\n",
       "      <td>1.63</td>\n",
       "      <td>25</td>\n",
       "      <td>8</td>\n",
       "      <td>314.1</td>\n",
       "      <td>319.7</td>\n",
       "      <td>314.5</td>\n",
       "    </tr>\n",
       "    <tr>\n",
       "      <th>19</th>\n",
       "      <td>640.0</td>\n",
       "      <td>3915</td>\n",
       "      <td>3.4</td>\n",
       "      <td>-16.6</td>\n",
       "      <td>22</td>\n",
       "      <td>1.64</td>\n",
       "      <td>25</td>\n",
       "      <td>8</td>\n",
       "      <td>314.2</td>\n",
       "      <td>319.8</td>\n",
       "      <td>314.5</td>\n",
       "    </tr>\n",
       "  </tbody>\n",
       "</table>\n",
       "</div>"
      ],
      "text/plain": [
       "      PRES   HGHT   TEMP   DWPT   RELH   MIXR   DRCT   SKNT   THTA   THTE  \\\n",
       "0   1016.0     18   17.4   13.0     75   9.34     35      7  289.2  315.7   \n",
       "1   1008.0     87   18.2   12.2     68   8.93     40     10  290.7  316.2   \n",
       "2   1000.0    157   17.8   11.8     68   8.76     45     13  290.9  316.0   \n",
       "3    950.0    595   15.2    8.4     64   7.32     10     25  292.6  313.8   \n",
       "4    939.0    694   14.6    7.6     63   7.02     14     26  293.0  313.4   \n",
       "5    925.0    822   15.4    6.4     55   6.56     20     27  295.1  314.4   \n",
       "6    899.0   1063   15.2    3.2     45   5.39     32     23  297.3  313.4   \n",
       "7    893.0   1119   17.0   -3.0     25   3.45     35     22  299.7  310.4   \n",
       "8    878.0   1263   17.4   -4.6     22   3.11     42     19  301.6  311.3   \n",
       "9    865.0   1390   20.2  -21.8      5   0.78     48     17  305.8  308.4   \n",
       "10   850.0   1540   20.6  -19.4      5   0.97     55     14  307.7  311.1   \n",
       "11   825.0   1795   18.5  -17.1      8   1.22     70     10  308.1  312.3   \n",
       "12   805.0   2005   16.8  -15.2     10   1.47     63     11  308.5  313.4   \n",
       "13   768.0   2404   15.4  -19.8      7   1.04     50     13  311.1  314.8   \n",
       "14   748.0   2627   14.6  -22.4      6   0.85     54     12  312.6  315.6   \n",
       "15   700.0   3182   10.2  -20.8      9   1.05     65      9  313.8  317.4   \n",
       "16   690.0   3300    9.1  -20.1     11   1.13     65      9  313.8  317.8   \n",
       "17   665.0   3601    6.3  -18.4     15   1.36     55      9  314.0  318.7   \n",
       "18   641.0   3902    3.5  -16.7     21   1.63     25      8  314.1  319.7   \n",
       "19   640.0   3915    3.4  -16.6     22   1.64     25      8  314.2  319.8   \n",
       "\n",
       "     THTV  \n",
       "0   290.9  \n",
       "1   292.2  \n",
       "2   292.5  \n",
       "3   293.9  \n",
       "4   294.2  \n",
       "5   296.2  \n",
       "6   298.2  \n",
       "7   300.3  \n",
       "8   302.1  \n",
       "9   305.9  \n",
       "10  307.9  \n",
       "11  308.4  \n",
       "12  308.8  \n",
       "13  311.3  \n",
       "14  312.8  \n",
       "15  313.9  \n",
       "16  314.0  \n",
       "17  314.3  \n",
       "18  314.5  \n",
       "19  314.5  "
      ]
     },
     "execution_count": 3,
     "metadata": {},
     "output_type": "execute_result"
    }
   ],
   "source": [
    "df.head(20)"
   ]
  },
  {
   "cell_type": "code",
   "execution_count": 4,
   "metadata": {
    "collapsed": false
   },
   "outputs": [
    {
     "data": {
      "text/html": [
       "<div>\n",
       "<table border=\"1\" class=\"dataframe\">\n",
       "  <thead>\n",
       "    <tr style=\"text-align: right;\">\n",
       "      <th></th>\n",
       "      <th>PRES</th>\n",
       "      <th>HGHT</th>\n",
       "      <th>TEMP</th>\n",
       "      <th>DWPT</th>\n",
       "      <th>RELH</th>\n",
       "      <th>MIXR</th>\n",
       "      <th>DRCT</th>\n",
       "      <th>SKNT</th>\n",
       "      <th>THTA</th>\n",
       "      <th>THTE</th>\n",
       "      <th>THTV</th>\n",
       "    </tr>\n",
       "  </thead>\n",
       "  <tbody>\n",
       "    <tr>\n",
       "      <th>count</th>\n",
       "      <td>77.000000</td>\n",
       "      <td>77.000000</td>\n",
       "      <td>77.000000</td>\n",
       "      <td>77.000000</td>\n",
       "      <td>77.000000</td>\n",
       "      <td>77.000000</td>\n",
       "      <td>77.000000</td>\n",
       "      <td>77.000000</td>\n",
       "      <td>77.000000</td>\n",
       "      <td>77.000000</td>\n",
       "      <td>77.000000</td>\n",
       "    </tr>\n",
       "    <tr>\n",
       "      <th>mean</th>\n",
       "      <td>350.151948</td>\n",
       "      <td>11544.701299</td>\n",
       "      <td>-36.762338</td>\n",
       "      <td>-59.593506</td>\n",
       "      <td>11.402597</td>\n",
       "      <td>0.973117</td>\n",
       "      <td>139.636364</td>\n",
       "      <td>13.519481</td>\n",
       "      <td>374.653247</td>\n",
       "      <td>377.612987</td>\n",
       "      <td>374.823377</td>\n",
       "    </tr>\n",
       "    <tr>\n",
       "      <th>std</th>\n",
       "      <td>321.000310</td>\n",
       "      <td>7551.621316</td>\n",
       "      <td>36.676552</td>\n",
       "      <td>35.502907</td>\n",
       "      <td>17.123591</td>\n",
       "      <td>2.248525</td>\n",
       "      <td>96.342988</td>\n",
       "      <td>7.833145</td>\n",
       "      <td>77.069749</td>\n",
       "      <td>74.328135</td>\n",
       "      <td>76.896795</td>\n",
       "    </tr>\n",
       "    <tr>\n",
       "      <th>min</th>\n",
       "      <td>30.000000</td>\n",
       "      <td>18.000000</td>\n",
       "      <td>-81.100000</td>\n",
       "      <td>-95.900000</td>\n",
       "      <td>1.000000</td>\n",
       "      <td>0.000000</td>\n",
       "      <td>5.000000</td>\n",
       "      <td>1.000000</td>\n",
       "      <td>289.200000</td>\n",
       "      <td>308.400000</td>\n",
       "      <td>290.900000</td>\n",
       "    </tr>\n",
       "    <tr>\n",
       "      <th>25%</th>\n",
       "      <td>77.300000</td>\n",
       "      <td>3915.000000</td>\n",
       "      <td>-71.900000</td>\n",
       "      <td>-92.000000</td>\n",
       "      <td>4.000000</td>\n",
       "      <td>0.000000</td>\n",
       "      <td>50.000000</td>\n",
       "      <td>8.000000</td>\n",
       "      <td>314.200000</td>\n",
       "      <td>319.800000</td>\n",
       "      <td>314.500000</td>\n",
       "    </tr>\n",
       "    <tr>\n",
       "      <th>50%</th>\n",
       "      <td>232.000000</td>\n",
       "      <td>11398.000000</td>\n",
       "      <td>-44.900000</td>\n",
       "      <td>-70.400000</td>\n",
       "      <td>5.000000</td>\n",
       "      <td>0.010000</td>\n",
       "      <td>125.000000</td>\n",
       "      <td>12.000000</td>\n",
       "      <td>346.500000</td>\n",
       "      <td>346.600000</td>\n",
       "      <td>346.500000</td>\n",
       "    </tr>\n",
       "    <tr>\n",
       "      <th>75%</th>\n",
       "      <td>640.000000</td>\n",
       "      <td>18051.000000</td>\n",
       "      <td>3.400000</td>\n",
       "      <td>-22.400000</td>\n",
       "      <td>8.000000</td>\n",
       "      <td>0.780000</td>\n",
       "      <td>225.000000</td>\n",
       "      <td>19.000000</td>\n",
       "      <td>399.500000</td>\n",
       "      <td>399.500000</td>\n",
       "      <td>399.500000</td>\n",
       "    </tr>\n",
       "    <tr>\n",
       "      <th>max</th>\n",
       "      <td>1016.000000</td>\n",
       "      <td>23630.000000</td>\n",
       "      <td>20.600000</td>\n",
       "      <td>13.000000</td>\n",
       "      <td>75.000000</td>\n",
       "      <td>9.340000</td>\n",
       "      <td>355.000000</td>\n",
       "      <td>38.000000</td>\n",
       "      <td>579.100000</td>\n",
       "      <td>579.200000</td>\n",
       "      <td>579.100000</td>\n",
       "    </tr>\n",
       "  </tbody>\n",
       "</table>\n",
       "</div>"
      ],
      "text/plain": [
       "              PRES          HGHT       TEMP       DWPT       RELH       MIXR  \\\n",
       "count    77.000000     77.000000  77.000000  77.000000  77.000000  77.000000   \n",
       "mean    350.151948  11544.701299 -36.762338 -59.593506  11.402597   0.973117   \n",
       "std     321.000310   7551.621316  36.676552  35.502907  17.123591   2.248525   \n",
       "min      30.000000     18.000000 -81.100000 -95.900000   1.000000   0.000000   \n",
       "25%      77.300000   3915.000000 -71.900000 -92.000000   4.000000   0.000000   \n",
       "50%     232.000000  11398.000000 -44.900000 -70.400000   5.000000   0.010000   \n",
       "75%     640.000000  18051.000000   3.400000 -22.400000   8.000000   0.780000   \n",
       "max    1016.000000  23630.000000  20.600000  13.000000  75.000000   9.340000   \n",
       "\n",
       "             DRCT       SKNT        THTA        THTE        THTV  \n",
       "count   77.000000  77.000000   77.000000   77.000000   77.000000  \n",
       "mean   139.636364  13.519481  374.653247  377.612987  374.823377  \n",
       "std     96.342988   7.833145   77.069749   74.328135   76.896795  \n",
       "min      5.000000   1.000000  289.200000  308.400000  290.900000  \n",
       "25%     50.000000   8.000000  314.200000  319.800000  314.500000  \n",
       "50%    125.000000  12.000000  346.500000  346.600000  346.500000  \n",
       "75%    225.000000  19.000000  399.500000  399.500000  399.500000  \n",
       "max    355.000000  38.000000  579.100000  579.200000  579.100000  "
      ]
     },
     "execution_count": 4,
     "metadata": {},
     "output_type": "execute_result"
    }
   ],
   "source": [
    "df.describe()"
   ]
  },
  {
   "cell_type": "code",
   "execution_count": 5,
   "metadata": {
    "collapsed": false
   },
   "outputs": [
    {
     "data": {
      "text/plain": [
       " PRES    0\n",
       " HGHT    0\n",
       " TEMP    0\n",
       " DWPT    0\n",
       " RELH    0\n",
       " MIXR    0\n",
       " DRCT    0\n",
       " SKNT    0\n",
       " THTA    0\n",
       " THTE    0\n",
       " THTV    0\n",
       "dtype: int64"
      ]
     },
     "execution_count": 5,
     "metadata": {},
     "output_type": "execute_result"
    }
   ],
   "source": [
    "df.apply(lambda x: sum(x.isnull()),axis=0)"
   ]
  },
  {
   "cell_type": "code",
   "execution_count": 6,
   "metadata": {
    "collapsed": true
   },
   "outputs": [],
   "source": [
    "%matplotlib inline"
   ]
  },
  {
   "cell_type": "code",
   "execution_count": 7,
   "metadata": {
    "collapsed": false
   },
   "outputs": [
    {
     "data": {
      "text/plain": [
       "Index([' PRES', ' HGHT', ' TEMP', ' DWPT', ' RELH', ' MIXR', ' DRCT', ' SKNT',\n",
       "       ' THTA', ' THTE', ' THTV'],\n",
       "      dtype='object')"
      ]
     },
     "execution_count": 7,
     "metadata": {},
     "output_type": "execute_result"
    }
   ],
   "source": [
    "df.columns"
   ]
  },
  {
   "cell_type": "code",
   "execution_count": 8,
   "metadata": {
    "collapsed": false,
    "scrolled": true
   },
   "outputs": [
    {
     "data": {
      "text/plain": [
       "<matplotlib.text.Text at 0x7fe630b12940>"
      ]
     },
     "execution_count": 8,
     "metadata": {},
     "output_type": "execute_result"
    },
    {
     "data": {
      "image/png": "[encoded data removed]",
      "text/plain": [
       "<matplotlib.figure.Figure at 0x7fe630b19748>"
      ]
     },
     "metadata": {},
     "output_type": "display_data"
    }
   ],
   "source": [
    "#Presión (hPa) vs. Altura (m)\n",
    "y = df[' HGHT']\n",
    "x = df[' PRES']\n",
    "mplt.plot(x, y)\n",
    "mplt.ylabel('Altura (m)')\n",
    "mplt.xlabel('Presión (hPa)')\n",
    "mplt.title('Presión vs. Altura')"
   ]
  },
  {
   "cell_type": "code",
   "execution_count": 9,
   "metadata": {
    "collapsed": false
   },
   "outputs": [
    {
     "data": {
      "text/plain": [
       "<matplotlib.text.Text at 0x7fe62de199e8>"
      ]
     },
     "execution_count": 9,
     "metadata": {},
     "output_type": "execute_result"
    },
    {
     "data": {
      "image/png": "[encoded data removed]",
      "text/plain": [
       "<matplotlib.figure.Figure at 0x7fe630b06c18>"
      ]
     },
     "metadata": {},
     "output_type": "display_data"
    }
   ],
   "source": [
    "#Temperatura (C) vs. Altura (m)\n",
    "y = df[' HGHT']\n",
    "x = df[' TEMP']\n",
    "mplt.plot(x, y)\n",
    "mplt.ylabel('Altura (m)')\n",
    "mplt.xlabel('Temperatura (°C)')\n",
    "mplt.title('Temperatura vs. Altura')"
   ]
  },
  {
   "cell_type": "code",
   "execution_count": 10,
   "metadata": {
    "collapsed": false
   },
   "outputs": [
    {
     "data": {
      "text/plain": [
       "<matplotlib.text.Text at 0x7fe62dd822e8>"
      ]
     },
     "execution_count": 10,
     "metadata": {},
     "output_type": "execute_result"
    },
    {
     "data": {
      "image/png": "[encoded data removed]",
      "text/plain": [
       "<matplotlib.figure.Figure at 0x7fe62de130b8>"
      ]
     },
     "metadata": {},
     "output_type": "display_data"
    }
   ],
   "source": [
    "#Temperatura de rocio (C) vs. Altura (m)\n",
    "y = df[' HGHT']\n",
    "x = df[' DWPT']\n",
    "mplt.plot(x, y)\n",
    "mplt.ylabel('Altura (m)')\n",
    "mplt.xlabel('Temperatura de rocio (°C)')\n",
    "mplt.title('Temperatura de rocio vs. Altura')"
   ]
  },
  {
   "cell_type": "code",
   "execution_count": 11,
   "metadata": {
    "collapsed": false
   },
   "outputs": [
    {
     "data": {
      "text/plain": [
       "<matplotlib.legend.Legend at 0x7fe62dd0c1d0>"
      ]
     },
     "execution_count": 11,
     "metadata": {},
     "output_type": "execute_result"
    },
    {
     "data": {
      "image/png": "[encoded data removed]",
      "text/plain": [
       "<matplotlib.figure.Figure at 0x7fe62ddbec50>"
      ]
     },
     "metadata": {},
     "output_type": "display_data"
    }
   ],
   "source": [
    "y = df[' HGHT']\n",
    "x1 = df[' DWPT']\n",
    "x2 = df[' TEMP']\n",
    "\n",
    " \n",
    "\n",
    "mplt.title('Altura (m) vs. Temperatura/Temperatura de rocio (C)')\n",
    "mplt.ylabel('Altura (m)')\n",
    "mplt.xlabel('Temperatura/Temperatura de rocio (C)')\n",
    "\n",
    "\n",
    "mplt.grid(True)\n",
    "mplt.plot(x1,y,c='purple',label='Temperatura de rocio')\n",
    "mplt.plot(x2,y,c='red', label='Temperatura')\n",
    "mplt.legend(fancybox=True, shadow=True)"
   ]
  },
  {
   "cell_type": "code",
   "execution_count": 17,
   "metadata": {
    "collapsed": false
   },
   "outputs": [
    {
     "ename": "ImportError",
     "evalue": "No module named 'isopleths'",
     "output_type": "error",
     "traceback": [
      "\u001b[0;31m---------------------------------------------------------------------------\u001b[0m",
      "\u001b[0;31mImportError\u001b[0m                               Traceback (most recent call last)",
      "\u001b[0;32m<ipython-input-17-5942dbf8d6bb>\u001b[0m in \u001b[0;36m<module>\u001b[0;34m()\u001b[0m\n\u001b[1;32m      1\u001b[0m \u001b[0;32mimport\u001b[0m \u001b[0mos\u001b[0m\u001b[0;34m\u001b[0m\u001b[0m\n\u001b[1;32m      2\u001b[0m \u001b[0;32mimport\u001b[0m \u001b[0mos\u001b[0m\u001b[0;34m.\u001b[0m\u001b[0mpath\u001b[0m\u001b[0;34m\u001b[0m\u001b[0m\n\u001b[0;32m----> 3\u001b[0;31m \u001b[0;32mimport\u001b[0m \u001b[0mtephi\u001b[0m\u001b[0;34m\u001b[0m\u001b[0m\n\u001b[0m",
      "\u001b[0;32m/home/lcoronado/.local/lib/python3.5/site-packages/tephi/__init__.py\u001b[0m in \u001b[0;36m<module>\u001b[0;34m()\u001b[0m\n\u001b[1;32m     34\u001b[0m \u001b[0;32mimport\u001b[0m \u001b[0mos\u001b[0m\u001b[0;34m.\u001b[0m\u001b[0mpath\u001b[0m\u001b[0;34m\u001b[0m\u001b[0m\n\u001b[1;32m     35\u001b[0m \u001b[0;34m\u001b[0m\u001b[0m\n\u001b[0;32m---> 36\u001b[0;31m \u001b[0;32mimport\u001b[0m \u001b[0misopleths\u001b[0m\u001b[0;34m\u001b[0m\u001b[0m\n\u001b[0m\u001b[1;32m     37\u001b[0m \u001b[0;32mimport\u001b[0m \u001b[0mtransforms\u001b[0m\u001b[0;34m\u001b[0m\u001b[0m\n\u001b[1;32m     38\u001b[0m \u001b[0;34m\u001b[0m\u001b[0m\n",
      "\u001b[0;31mImportError\u001b[0m: No module named 'isopleths'"
     ]
    }
   ],
   "source": [
    "import os\n",
    "import os.path\n",
    "import tephi"
   ]
  },
  {
   "cell_type": "code",
   "execution_count": 14,
   "metadata": {
    "collapsed": false
   },
   "outputs": [
    {
     "ename": "ImportError",
     "evalue": "No module named 'isopleths'",
     "output_type": "error",
     "traceback": [
      "\u001b[0;31m---------------------------------------------------------------------------\u001b[0m",
      "\u001b[0;31mImportError\u001b[0m                               Traceback (most recent call last)",
      "\u001b[0;32m<ipython-input-14-ecb4ed990d7b>\u001b[0m in \u001b[0;36m<module>\u001b[0;34m()\u001b[0m\n\u001b[0;32m----> 1\u001b[0;31m \u001b[0;32mfrom\u001b[0m \u001b[0mtephi\u001b[0m \u001b[0;32mimport\u001b[0m \u001b[0mTephigram\u001b[0m\u001b[0;34m\u001b[0m\u001b[0m\n\u001b[0m\u001b[1;32m      2\u001b[0m \u001b[0;34m\u001b[0m\u001b[0m\n\u001b[1;32m      3\u001b[0m \u001b[0mtpg\u001b[0m \u001b[0;34m=\u001b[0m \u001b[0mTephigram\u001b[0m\u001b[0;34m(\u001b[0m\u001b[0;34m)\u001b[0m\u001b[0;34m\u001b[0m\u001b[0m\n\u001b[1;32m      4\u001b[0m data = [[1006, 26.4], [924, 20.3], [900, 19.8],\n\u001b[1;32m      5\u001b[0m         [850, 14.5], [800, 12.9], [755, 8.3]]\n",
      "\u001b[0;32m/home/lcoronado/.local/lib/python3.5/site-packages/tephi/__init__.py\u001b[0m in \u001b[0;36m<module>\u001b[0;34m()\u001b[0m\n\u001b[1;32m     34\u001b[0m \u001b[0;32mimport\u001b[0m \u001b[0mos\u001b[0m\u001b[0;34m.\u001b[0m\u001b[0mpath\u001b[0m\u001b[0;34m\u001b[0m\u001b[0m\n\u001b[1;32m     35\u001b[0m \u001b[0;34m\u001b[0m\u001b[0m\n\u001b[0;32m---> 36\u001b[0;31m \u001b[0;32mimport\u001b[0m \u001b[0misopleths\u001b[0m\u001b[0;34m\u001b[0m\u001b[0m\n\u001b[0m\u001b[1;32m     37\u001b[0m \u001b[0;32mimport\u001b[0m \u001b[0mtransforms\u001b[0m\u001b[0;34m\u001b[0m\u001b[0m\n\u001b[1;32m     38\u001b[0m \u001b[0;34m\u001b[0m\u001b[0m\n",
      "\u001b[0;31mImportError\u001b[0m: No module named 'isopleths'"
     ]
    }
   ],
   "source": [
    "from tephi import Tephigram\n",
    "\n",
    "tpg = Tephigram()\n",
    "data = [[1006, 26.4], [924, 20.3], [900, 19.8],\n",
    "        [850, 14.5], [800, 12.9], [755, 8.3]]\n",
    "profile = tpg.plot(data, color='red', linestyle='--',\n",
    "                   linewidth=2, marker='o')\n",
    "barbs = [(10, 45, 900), (20, 60, 850), (25, 90, 800)]\n",
    "profile.barbs(barbs)\n",
    "plt.show()"
   ]
  },
  {
   "cell_type": "code",
   "execution_count": null,
   "metadata": {
    "collapsed": true
   },
   "outputs": [],
   "source": []
  }
 ],
 "metadata": {
  "anaconda-cloud": {},
  "kernelspec": {
   "display_name": "Python [conda root]",
   "language": "python",
   "name": "conda-root-py"
  },
  "language_info": {
   "codemirror_mode": {
    "name": "ipython",
    "version": 3
   },
   "file_extension": ".py",
   "mimetype": "text/x-python",
   "name": "python",
   "nbconvert_exporter": "python",
   "pygments_lexer": "ipython3",
   "version": "3.5.2"
  }
 },
 "nbformat": 4,
 "nbformat_minor": 1
}
